{
 "cells": [
  {
   "cell_type": "code",
   "execution_count": 6,
   "metadata": {},
   "outputs": [
    {
     "name": "stdout",
     "output_type": "stream",
     "text": [
      "Collecting scipy==0.19.1 (from -r requirements.txt (line 1))\n",
      "  Using cached https://files.pythonhosted.org/packages/52/67/d9ef9b5058d4a9e3f0ae641ec151790622cbeb37f157de5773358e2bf3da/scipy-0.19.1.tar.gz\n",
      "Collecting horovod==0.16.0 (from -r requirements.txt (line 2))\n",
      "  Using cached https://files.pythonhosted.org/packages/ac/26/50725d9cfec737b8dc796ce93acbc2eb06d289049fb5476a625481438e50/horovod-0.16.0.tar.gz\n",
      "Collecting torch<1.0.0,>=0.3.1 (from -r requirements.txt (line 3))\n",
      "  Using cached https://files.pythonhosted.org/packages/d3/91/1b2871d6c8ca079254deae5872af32e02e9a85f07dd0834e8b3489ce138f/torch-0.4.1.post2-cp37-cp37m-manylinux1_x86_64.whl\n",
      "Collecting scikit_image==0.13.0 (from -r requirements.txt (line 4))\n",
      "  Using cached https://files.pythonhosted.org/packages/f0/a2/918366ba9095ed4c07646be903c795f375d978ee418136eecb0571559719/scikit-image-0.13.0.tar.gz\n",
      "Collecting tensorflow<1.14.0,>=1.12.0 (from -r requirements.txt (line 5))\n",
      "  Using cached https://files.pythonhosted.org/packages/bc/70/45d3b9fab768215a2055c7819d39547a4b0b7401b4583094068741aff99b/tensorflow-1.13.2-cp37-cp37m-manylinux1_x86_64.whl\n",
      "Collecting torchvision==0.2.0 (from -r requirements.txt (line 6))\n",
      "  Using cached https://files.pythonhosted.org/packages/e9/c9/f4eb36734bffd36eb8095247d816cbe6aeca0a2b9218b78678288edfdb92/torchvision-0.2.0-py2.py3-none-any.whl\n",
      "Collecting six==1.11.0 (from -r requirements.txt (line 7))\n",
      "  Using cached https://files.pythonhosted.org/packages/67/4b/141a581104b1f6397bfa78ac9d43d8ad29a7ca43ea90a2d863fe3056e86a/six-1.11.0-py2.py3-none-any.whl\n",
      "Collecting imageio==2.4.1 (from -r requirements.txt (line 8))\n",
      "  Using cached https://files.pythonhosted.org/packages/28/b4/cbb592964dfd71a9de6a5b08f882fd334fb99ae09ddc82081dbb2f718c81/imageio-2.4.1.tar.gz\n",
      "Collecting tqdm==4.20.0 (from -r requirements.txt (line 9))\n",
      "  Using cached https://files.pythonhosted.org/packages/70/72/06052de3cd833aa73b429be21a0077591239873056af0f31edf3269b978b/tqdm-4.20.0-py2.py3-none-any.whl\n",
      "Collecting matplotlib<2.0.0,>=1.5.3 (from -r requirements.txt (line 10))\n",
      "  Using cached https://files.pythonhosted.org/packages/75/4e/2374eed18ac34421ccd7b4907080abd3009e112ca2c11b100c18961312e0/matplotlib-1.5.3.tar.gz\n",
      "\u001b[31m    ERROR: Command errored out with exit status 1:\n",
      "     command: /opt/conda/bin/python -c 'import sys, setuptools, tokenize; sys.argv[0] = '\"'\"'/tmp/pip-install-_0em7eip/matplotlib/setup.py'\"'\"'; __file__='\"'\"'/tmp/pip-install-_0em7eip/matplotlib/setup.py'\"'\"';f=getattr(tokenize, '\"'\"'open'\"'\"', open)(__file__);code=f.read().replace('\"'\"'\\r\\n'\"'\"', '\"'\"'\\n'\"'\"');f.close();exec(compile(code, __file__, '\"'\"'exec'\"'\"'))' egg_info --egg-base pip-egg-info\n",
      "         cwd: /tmp/pip-install-_0em7eip/matplotlib/\n",
      "    Complete output (67 lines):\n",
      "    IMPORTANT WARNING:\n",
      "        pkg-config is not installed.\n",
      "        matplotlib may not be able to find some of its dependencies\n",
      "    ============================================================================\n",
      "    Edit setup.cfg to change the build options\n",
      "    \n",
      "    BUILDING MATPLOTLIB\n",
      "                matplotlib: yes [1.5.3]\n",
      "                    python: yes [3.7.3 | packaged by conda-forge | (default, Jul\n",
      "                            1 2019, 21:52:21)  [GCC 7.3.0]]\n",
      "                  platform: yes [linux]\n",
      "    \n",
      "    REQUIRED DEPENDENCIES AND EXTENSIONS\n",
      "                     numpy: yes [version 1.15.4]\n",
      "                  dateutil: yes [using dateutil version 2.8.0]\n",
      "                      pytz: yes [using pytz version 2019.1]\n",
      "                    cycler: yes [using cycler version 0.10.0]\n",
      "                   tornado: yes [using tornado version 6.0.3]\n",
      "                 pyparsing: yes [using pyparsing version 2.4.1.1]\n",
      "                    libagg: yes [pkg-config information for 'libagg' could not\n",
      "                            be found. Using local copy.]\n",
      "                  freetype: no  [The C/C++ header for freetype2 (ft2build.h)\n",
      "                            could not be found.  You may need to install the\n",
      "                            development package.]\n",
      "                       png: yes [version 1.6.37]\n",
      "                     qhull: yes [pkg-config information for 'qhull' could not be\n",
      "                            found. Using local copy.]\n",
      "    \n",
      "    OPTIONAL SUBPACKAGES\n",
      "               sample_data: yes [installing]\n",
      "                  toolkits: yes [installing]\n",
      "                     tests: yes [nose 0.11.1 or later is required to run the\n",
      "                            matplotlib test suite. Please install it with pip or\n",
      "                            your preferred tool to run the test suite / using\n",
      "                            unittest.mock]\n",
      "            toolkits_tests: yes [nose 0.11.1 or later is required to run the\n",
      "                            matplotlib test suite. Please install it with pip or\n",
      "                            your preferred tool to run the test suite / using\n",
      "                            unittest.mock]\n",
      "    \n",
      "    OPTIONAL BACKEND EXTENSIONS\n",
      "                    macosx: no  [Mac OS-X only]\n",
      "                    qt5agg: yes [installing, Qt: 5.9.7, PyQt: 5.9.7]\n",
      "                    qt4agg: no  [PySide not found; PyQt4 not found]\n",
      "                   gtk3agg: no  [Requires pygobject to be installed.]\n",
      "                 gtk3cairo: no  [Requires cairocffi or pycairo to be installed.]\n",
      "                    gtkagg: no  [Requires pygtk]\n",
      "                     tkagg: yes [installing; run-time loading from Python Tcl /\n",
      "                            Tk]\n",
      "                     wxagg: no  [requires wxPython]\n",
      "                       gtk: no  [Requires pygtk]\n",
      "                       agg: yes [installing]\n",
      "                     cairo: no  [cairocffi or pycairo not found]\n",
      "                 windowing: no  [Microsoft Windows only]\n",
      "    \n",
      "    OPTIONAL LATEX DEPENDENCIES\n",
      "                    dvipng: no\n",
      "               ghostscript: no\n",
      "                     latex: yes [version 3.14159265]\n",
      "                   pdftops: no\n",
      "    \n",
      "    OPTIONAL PACKAGE DATA\n",
      "                      dlls: no  [skipping due to configuration]\n",
      "    \n",
      "    ============================================================================\n",
      "                            * The following required packages can not be built:\n",
      "                            * freetype\n",
      "    ----------------------------------------\u001b[0m\n",
      "\u001b[31mERROR: Command errored out with exit status 1: python setup.py egg_info Check the logs for full command output.\u001b[0m\n"
     ]
    }
   ],
   "source": [
    "!pip install -r requirements.txt"
   ]
  },
  {
   "cell_type": "code",
   "execution_count": 4,
   "metadata": {},
   "outputs": [
    {
     "data": {
      "text/plain": [
       "[]"
      ]
     },
     "execution_count": 4,
     "metadata": {},
     "output_type": "execute_result"
    }
   ],
   "source": [
    "!mkdir -p sandbox_cachedir"
   ]
  }
 ],
 "metadata": {
  "kernelspec": {
   "display_name": "Python 3",
   "language": "python",
   "name": "python3"
  },
  "language_info": {
   "codemirror_mode": {
    "name": "ipython",
    "version": 3
   },
   "file_extension": ".py",
   "mimetype": "text/x-python",
   "name": "python",
   "nbconvert_exporter": "python",
   "pygments_lexer": "ipython3",
   "version": "3.7.3"
  }
 },
 "nbformat": 4,
 "nbformat_minor": 4
}
